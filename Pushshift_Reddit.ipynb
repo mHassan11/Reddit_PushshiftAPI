{
  "nbformat": 4,
  "nbformat_minor": 0,
  "metadata": {
    "colab": {
      "name": "Pushshift_Reddit.ipynb",
      "provenance": [],
      "authorship_tag": "ABX9TyMuPpMEUGFCD1dohNahc8GH",
      "include_colab_link": true
    },
    "kernelspec": {
      "name": "python3",
      "display_name": "Python 3"
    }
  },
  "cells": [
    {
      "cell_type": "markdown",
      "metadata": {
        "id": "view-in-github",
        "colab_type": "text"
      },
      "source": [
        "<a href=\"https://colab.research.google.com/github/mHassan11/Reddit_PushshiftAPI/blob/master/Pushshift_Reddit.ipynb\" target=\"_parent\"><img src=\"https://colab.research.google.com/assets/colab-badge.svg\" alt=\"Open In Colab\"/></a>"
      ]
    },
    {
      "cell_type": "code",
      "metadata": {
        "id": "eTcPZfJtov1x",
        "colab_type": "code",
        "colab": {}
      },
      "source": [
        "import pandas as pd\n",
        "import requests\n",
        "import json\n",
        "import csv\n",
        "import time\n",
        "import datetime"
      ],
      "execution_count": 0,
      "outputs": []
    },
    {
      "cell_type": "code",
      "metadata": {
        "id": "cUzoNn3ehgMn",
        "colab_type": "code",
        "outputId": "f255f5ab-0358-46af-d59c-02aa7f6ce681",
        "colab": {
          "base_uri": "https://localhost:8080/",
          "height": 35
        }
      },
      "source": [
        "from google.colab import drive\n",
        "drive.mount('/content/gdrive')"
      ],
      "execution_count": 0,
      "outputs": [
        {
          "output_type": "stream",
          "text": [
            "Drive already mounted at /content/gdrive; to attempt to forcibly remount, call drive.mount(\"/content/gdrive\", force_remount=True).\n"
          ],
          "name": "stdout"
        }
      ]
    },
    {
      "cell_type": "code",
      "metadata": {
        "id": "5rrAi4YAhnkF",
        "colab_type": "code",
        "colab": {}
      },
      "source": [
        "file_directory = \"/content/gdrive/My Drive/Reddit Data/dataset/\""
      ],
      "execution_count": 0,
      "outputs": []
    },
    {
      "cell_type": "code",
      "metadata": {
        "id": "dbR3_uuhRtYx",
        "colab_type": "code",
        "colab": {}
      },
      "source": [
        "def getPushshiftData(after, before, sub):\n",
        "    url = 'https://api.pushshift.io/reddit/search/submission/?'+'&size=1000&after='+str(after)+'&before='+str(before)+'&subreddit='+str(sub)\n",
        "    print(url)\n",
        "    r = requests.get(url)\n",
        "    data = json.loads(r.text)\n",
        "    return data['data']"
      ],
      "execution_count": 0,
      "outputs": []
    },
    {
      "cell_type": "code",
      "metadata": {
        "id": "ynzckVkEfat9",
        "colab_type": "code",
        "colab": {}
      },
      "source": [
        "def collectSubData(subm):\n",
        "    subData = list() #list to store data points\n",
        "    title = subm['title']\n",
        "    url = subm['url']\n",
        "    try:\n",
        "        flair = subm['link_flair_text']\n",
        "    except KeyError:\n",
        "        flair = \"NaN\"    \n",
        "    full_link = subm['full_link']\n",
        "    author = subm['author']\n",
        "\n",
        "    selftext = subm['selftext']\n",
        "    sub_id = subm['id']\n",
        "    score = subm['score']\n",
        "    created = datetime.datetime.fromtimestamp(subm['created_utc']) #1520561700.0\n",
        "    numComms = subm['num_comments']\n",
        "    permalink = subm['permalink']\n",
        "    \n",
        "    subData.append((sub_id,title,url,full_link,author,selftext,\n",
        "                    score,created,numComms,permalink,flair))\n",
        "    subStats[sub_id] = subData"
      ],
      "execution_count": 0,
      "outputs": []
    },
    {
      "cell_type": "code",
      "metadata": {
        "id": "MXRwemNbgCF1",
        "colab_type": "code",
        "colab": {}
      },
      "source": [
        "#Subreddit to query\n",
        "sub='news'\n",
        "#before and after dates\n",
        "\n",
        "before = \"1576022400\" #Dec 1st 2019 0h0m0s\n",
        "after = \"1575158400\"  #Dec 10th 2019 24h0m0s\n",
        "\n",
        "subCount = 0\n",
        "subStats = {}\n",
        "\n",
        "data = getPushshiftData( after, before, sub)# Will run until all posts have been gathered \n",
        "# from the 'after' date up until before date\n",
        "while len(data) > 0:\n",
        "    for submission in data:\n",
        "        collectSubData(submission)\n",
        "        subCount+=1\n",
        "    # Calls getPushshiftData() with the created date of the last submission\n",
        "    print(len(data))\n",
        "    print(str(datetime.datetime.fromtimestamp(data[-1]['created_utc'])))\n",
        "    after = data[-1]['created_utc']\n",
        "    data = getPushshiftData( after, before, sub)\n",
        "    \n",
        "print(len(data))"
      ],
      "execution_count": 0,
      "outputs": []
    },
    {
      "cell_type": "code",
      "metadata": {
        "id": "lK0iyO2DkMcb",
        "colab_type": "code",
        "colab": {}
      },
      "source": [
        "subCount"
      ],
      "execution_count": 0,
      "outputs": []
    },
    {
      "cell_type": "code",
      "metadata": {
        "id": "fnuG4UxKkQ-B",
        "colab_type": "code",
        "colab": {}
      },
      "source": [
        "def updateSubs_file():\n",
        "    upload_count = 0\n",
        "    location = file_directory \n",
        "    print(\"location: \", location)\n",
        "    sub_red = sub\n",
        "    directory_name = location + sub_red +'/'\n",
        "    \n",
        "    file = directory_name+sub_red+ '.csv'\n",
        "    print(\"file: \",file)\n",
        "    with open(file, 'w', newline='', encoding='utf-8') as file: \n",
        "        a = csv.writer(file, delimiter=',')\n",
        "        headers = [\"Post ID\",\"Title\",\"Url\",\"Full Link\",\"Author\",\"Self Text\",\"Score\",\"Publish Date\",\"Total No. of Comments\",\"Permalink\",\"Flair\"]\n",
        "        a.writerow(headers)\n",
        "        for sub in subStats:\n",
        "            a.writerow(subStats[sub][0])\n",
        "            upload_count+=1\n",
        "            \n",
        "        print(str(upload_count) + \" submissions have been uploaded\")\n",
        "updateSubs_file()"
      ],
      "execution_count": 0,
      "outputs": []
    }
  ]
}